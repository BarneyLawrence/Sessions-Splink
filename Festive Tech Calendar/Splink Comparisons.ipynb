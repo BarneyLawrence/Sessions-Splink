{
  "nbformat": 4,
  "nbformat_minor": 2,
  "metadata": {
    "kernelspec": {
      "name": "synapse_pyspark",
      "display_name": "Synapse PySpark"
    },
    "language_info": {
      "name": "python"
    },
    "save_output": true,
    "synapse_widget": {
      "version": "0.1",
      "state": {}
    }
  },
  "cells": [
    {
      "cell_type": "code",
      "execution_count": null,
      "outputs": [],
      "metadata": {},
      "source": [
        "pip install splink"
      ]
    },
    {
      "cell_type": "code",
      "execution_count": null,
      "outputs": [],
      "metadata": {
        "jupyter": {
          "source_hidden": false,
          "outputs_hidden": false
        },
        "nteract": {
          "transient": {
            "deleting": false
          }
        }
      },
      "source": [
        "import splink.spark.comparison_library as cl\r\n",
        "import splink.spark.comparison_level_library as cll\r\n",
        "import splink.spark.comparison_template_library as ctl\r\n",
        "from splink.comparison import Comparison\r\n",
        "\r\n",
        "import pprint"
      ]
    },
    {
      "cell_type": "markdown",
      "metadata": {
        "nteract": {
          "transient": {
            "deleting": false
          }
        }
      },
      "source": [
        "## Exact Match\r\n",
        "Create an exact match comparison on a single field.\r\n",
        "\r\n",
        "We can use human_readable_description to get a simle description of the levels involved.\r\n",
        "\r\n",
        "Note that exact match consists of three levels, null handling, exact matches and all other outcomes (in this case non matches)."
      ]
    },
    {
      "cell_type": "code",
      "execution_count": null,
      "outputs": [],
      "metadata": {
        "jupyter": {
          "source_hidden": false,
          "outputs_hidden": false
        },
        "nteract": {
          "transient": {
            "deleting": false
          }
        }
      },
      "source": [
        "MyExactComparison = cl.exact_match(\"Email\")\r\n",
        "print(MyExactComparison.human_readable_description)"
      ]
    },
    {
      "cell_type": "markdown",
      "metadata": {
        "nteract": {
          "transient": {
            "deleting": false
          }
        }
      },
      "source": [
        "the comparison functions are helpers that build dictionaries in the base comparison format.\r\n",
        "\r\n",
        ".as_dict() allows us to see the raw format (useful if you want to modify it further)."
      ]
    },
    {
      "cell_type": "code",
      "execution_count": null,
      "outputs": [],
      "metadata": {
        "jupyter": {
          "source_hidden": false,
          "outputs_hidden": false
        },
        "nteract": {
          "transient": {
            "deleting": false
          }
        }
      },
      "source": [
        "pprint.pprint(MyExactComparison.as_dict())"
      ]
    },
    {
      "cell_type": "markdown",
      "metadata": {
        "nteract": {
          "transient": {
            "deleting": false
          }
        }
      },
      "source": [
        "## More Complex Comparisons\r\n",
        "Comparison templates are provided for common field types that need more complex sets of comparisons such as date fields."
      ]
    },
    {
      "cell_type": "code",
      "execution_count": null,
      "outputs": [],
      "metadata": {
        "jupyter": {
          "source_hidden": false,
          "outputs_hidden": false
        },
        "nteract": {
          "transient": {
            "deleting": false
          }
        }
      },
      "source": [
        "MyDateComparison = ctl.date_comparison(\"date_of_birth\")\r\n",
        "print( MyDateComparison.human_readable_description)"
      ]
    },
    {
      "cell_type": "markdown",
      "metadata": {
        "nteract": {
          "transient": {
            "deleting": false
          }
        }
      },
      "source": [
        "Comparison templates can often be customised with additional parameters."
      ]
    },
    {
      "cell_type": "code",
      "execution_count": null,
      "outputs": [],
      "metadata": {
        "jupyter": {
          "source_hidden": false,
          "outputs_hidden": false
        },
        "nteract": {
          "transient": {
            "deleting": false
          }
        }
      },
      "source": [
        "MyDateComparison2 = ctl.date_comparison(\"date_of_birth\",\r\n",
        "                    damerau_levenshtein_thresholds=[],\r\n",
        "                    levenshtein_thresholds=[1,2],\r\n",
        "                    datediff_thresholds=[1, 2, 1],\r\n",
        "                    datediff_metrics=[\"month\",\"month\", \"year\"])\r\n",
        "print( MyDateComparison2.human_readable_description)"
      ]
    },
    {
      "cell_type": "markdown",
      "metadata": {
        "nteract": {
          "transient": {
            "deleting": false
          }
        }
      },
      "source": [
        "## Comparison Levels\r\n",
        "For a finer level of control comparison levels can be used to build a comparison.\r\n",
        "\r\n",
        "Here we re-create the exact match comparison."
      ]
    },
    {
      "cell_type": "code",
      "execution_count": null,
      "outputs": [],
      "metadata": {
        "jupyter": {
          "source_hidden": false,
          "outputs_hidden": false
        },
        "nteract": {
          "transient": {
            "deleting": false
          }
        }
      },
      "source": [
        "comparison_exact_name = {\r\n",
        "    \"output_column_name\": \"first_name\",\r\n",
        "    \"comparison_description\": \"First name exact match\",\r\n",
        "    \"comparison_levels\": [\r\n",
        "        cll.null_level(\"first_name\"),\r\n",
        "        cll.exact_match_level(\"first_name\"),\r\n",
        "        cll.else_level(),\r\n",
        "    ],\r\n",
        "}\r\n",
        "\r\n",
        "print(Comparison(comparison_exact_name).human_readable_description)"
      ]
    },
    {
      "cell_type": "code",
      "execution_count": null,
      "outputs": [],
      "metadata": {
        "jupyter": {
          "source_hidden": false,
          "outputs_hidden": false
        },
        "nteract": {
          "transient": {
            "deleting": false
          }
        }
      },
      "source": [
        "comparison_names = {\r\n",
        "    \"output_column_name\": \"full_name\",\r\n",
        "    \"comparison_description\": \"Full name matches\",\r\n",
        "    \"comparison_levels\": [\r\n",
        "        cll.and_(\r\n",
        "            cll.null_level(\"first_name\"),\r\n",
        "            cll.null_level(\"last_name\"),\r\n",
        "            label_for_charts = \"Null Level\",\r\n",
        "            is_null_level = True\r\n",
        "        ),\r\n",
        "        cll.and_(\r\n",
        "            cll.exact_match_level(\"first_name\"),\r\n",
        "            cll.exact_match_level(\"last_name\"),\r\n",
        "            label_for_charts = \"first AND last name\"\r\n",
        "        ),\r\n",
        "        cll.and_(\r\n",
        "            cll.exact_match_level(\"left(first_name,1)\"),\r\n",
        "            cll.exact_match_level(\"last_name\"),\r\n",
        "            label_for_charts = \"first initial AND last name\"\r\n",
        "        ),\r\n",
        "        cll.or_(\r\n",
        "            cll.exact_match_level(\"first_name\"),\r\n",
        "            cll.exact_match_level(\"last_name\"),\r\n",
        "            label_for_charts = \"first OR last name\"\r\n",
        "        ),\r\n",
        "        cll.else_level(),\r\n",
        "    ],\r\n",
        "}\r\n",
        "\r\n",
        "print(Comparison(comparison_names).human_readable_description)"
      ]
    }
  ]
}